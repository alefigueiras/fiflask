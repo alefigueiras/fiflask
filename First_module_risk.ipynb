{
 "cells": [
  {
   "cell_type": "code",
   "execution_count": 1,
   "metadata": {
    "collapsed": true
   },
   "outputs": [],
   "source": [
    "import requests\n",
    "import pandas\n",
    "from bokeh.plotting import figure"
   ]
  },
  {
   "cell_type": "code",
   "execution_count": 4,
   "metadata": {
    "collapsed": true
   },
   "outputs": [],
   "source": [
    "def quandl(symbol, start_date='2000-01-01'):\n",
    "    # Get data and transform it into a python object (dict)\n",
    "    url = 'https://www.quandl.com/api/v3/datasets/WIKI/%s.json?api_key=XQKAhbrdid5hNyDptPBx&start_date=%s'\n",
    "    response = requests.get(url % (symbol, start_date))\n",
    "    json = response.json()\n",
    "    \n",
    "    # Create variables to refer to the data we are interested in\n",
    "    dataset = json['dataset']\n",
    "    data = dataset['data']\n",
    "    columns = dataset['column_names']\n",
    "    \n",
    "    # Create dataframe out of the data\n",
    "    df = pandas.DataFrame(data, columns=columns)\n",
    "    \n",
    "    # Transform the Date column from str into an actual date type\n",
    "    df['Date'] = pandas.to_datetime(df['Date'])\n",
    "    \n",
    "    # Use the Date column as index\n",
    "    df = df.set_index('Date')\n",
    "    return df"
   ]
  },
  {
   "cell_type": "code",
   "execution_count": 3,
   "metadata": {
    "collapsed": true
   },
   "outputs": [],
   "source": [
    "def plot(history, title='Market history', adj_closing=True, closing=False,\n",
    "         adj_opening=False, opening=False):\n",
    "    # Create the figure canvas \n",
    "    f = figure(title=title,\n",
    "          x_axis_label='Date',\n",
    "          x_axis_type='datetime',\n",
    "          y_axis_label='Price')\n",
    "    \n",
    "    # Plot the line in the figure\n",
    "    if adj_closing == True:\n",
    "        f.line(x = history.index, y = history['Adj. Close'],\n",
    "               color='green', legend='Adj. Close')\n",
    "    if closing == True:\n",
    "        f.line(x = history.index, y = history['Close'],\n",
    "               color='blue', legend='Close')\n",
    "    if adj_opening == True:\n",
    "        f.line(x = history.index, y = history['Adj. Open'],\n",
    "               color='red', legend='Adj. Open')\n",
    "    if opening == True:\n",
    "        f.line(x = history.index, y = history['Open'],\n",
    "               color='yellow', legend='Open')\n",
    "\n",
    "    return f"
   ]
  },
  {
   "cell_type": "code",
   "execution_count": null,
   "metadata": {
    "collapsed": true
   },
   "outputs": [],
   "source": []
  }
 ],
 "metadata": {
  "kernelspec": {
   "display_name": "Python 2",
   "language": "python",
   "name": "python2"
  },
  "language_info": {
   "codemirror_mode": {
    "name": "ipython",
    "version": 2
   },
   "file_extension": ".py",
   "mimetype": "text/x-python",
   "name": "python",
   "nbconvert_exporter": "python",
   "pygments_lexer": "ipython2",
   "version": "2.7.11"
  }
 },
 "nbformat": 4,
 "nbformat_minor": 0
}
